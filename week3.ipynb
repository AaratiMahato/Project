{
  "nbformat": 4,
  "nbformat_minor": 0,
  "metadata": {
    "colab": {
      "provenance": []
    },
    "kernelspec": {
      "name": "python3",
      "display_name": "Python 3"
    },
    "language_info": {
      "name": "python"
    }
  },
  "cells": [
    {
      "cell_type": "code",
      "execution_count": 1,
      "metadata": {
        "colab": {
          "base_uri": "https://localhost:8080/"
        },
        "id": "J0qBlKt7aKHc",
        "outputId": "fe3f1521-7d68-494e-df38-e8a75396fd23"
      },
      "outputs": [
        {
          "output_type": "stream",
          "name": "stderr",
          "text": [
            "[nltk_data] Downloading package stopwords to /root/nltk_data...\n",
            "[nltk_data]   Unzipping corpora/stopwords.zip.\n",
            "[nltk_data] Downloading package punkt to /root/nltk_data...\n",
            "[nltk_data]   Unzipping tokenizers/punkt.zip.\n",
            "[nltk_data] Downloading package wordnet to /root/nltk_data...\n"
          ]
        }
      ],
      "source": [
        "import os\n",
        "import logging\n",
        "import math\n",
        "import numpy as np\n",
        "import nltk\n",
        "nltk . download ('stopwords')\n",
        "nltk . download ('punkt')\n",
        "nltk . download ('wordnet')\n",
        "import string\n",
        "import logging\n",
        "import re\n",
        "from collections import defaultdict , Counter\n",
        "from nltk . corpus import stopwords\n",
        "from nltk . tokenize import word_tokenize\n",
        "from nltk . stem import WordNetLemmatizer\n",
        "\n",
        "STOPWORDS = set( stopwords . words ('english') )\n",
        "LEMMATIZER = WordNetLemmatizer ()"
      ]
    },
    {
      "cell_type": "code",
      "source": [
        "def load_text_files(folder_path):\n",
        "    data = {}\n",
        "    doc_id_to_filename = {}\n",
        "    doc_id = 0\n",
        "    for filename in os.listdir(folder_path):\n",
        "        if filename.endswith(\".txt\"):\n",
        "            with open(os.path.join(folder_path, filename), 'r', encoding='utf-8') as file:\n",
        "                data[doc_id] = file.read()\n",
        "                doc_id_to_filename[doc_id] = filename\n",
        "                logging.info(f\"Loaded file: {filename} with doc_id: {doc_id}\")\n",
        "                doc_id += 1\n",
        "    return data, doc_id_to_filename"
      ],
      "metadata": {
        "id": "xBaduyQTbjvn"
      },
      "execution_count": 2,
      "outputs": []
    },
    {
      "cell_type": "code",
      "source": [
        "def tokenize(text):\n",
        "    return text.lower().split()"
      ],
      "metadata": {
        "id": "KNvZpPsvbqf_"
      },
      "execution_count": 3,
      "outputs": []
    },
    {
      "cell_type": "code",
      "source": [
        "def clean_text(text):\n",
        "    text = text.lower()\n",
        "    text = re.sub(r\"[^a-zA-Z0-9\\s]\", \"\", text)\n",
        "    tokens = toke(text)\n",
        "    cleaned_tokens = [LEMMATIZER.lemmatize(word) for word in tokens if word not in STOPWORDS]\n",
        "    return cleaned_tokens"
      ],
      "metadata": {
        "id": "Ncw3LI6QoUN2"
      },
      "execution_count": 4,
      "outputs": []
    },
    {
      "cell_type": "code",
      "source": [
        "def term_frequency(term, document):\n",
        "    return document.count(term) / len(document)"
      ],
      "metadata": {
        "id": "e8xtSRv2oa1o"
      },
      "execution_count": 5,
      "outputs": []
    },
    {
      "cell_type": "code",
      "source": [
        "def inverse_document_frequency(term, all_documents):\n",
        "    num_docs_containing_term = sum(1 for doc in all_documents if term in doc)\n",
        "    return math.log(len(all_documents) / (1 + num_docs_containing_term))"
      ],
      "metadata": {
        "id": "RP0SEojEodi5"
      },
      "execution_count": 6,
      "outputs": []
    },
    {
      "cell_type": "code",
      "source": [
        "def compute_tfidf(document, all_documents, vocab):\n",
        "    tfidf_vector = []\n",
        "    for term in vocab:\n",
        "        tf = term_frequency(term, document)\n",
        "        idf = inverse_document_frequency(term, all_documents)\n",
        "        tfidf_vector.append(tf * idf)\n",
        "    return np.array(tfidf_vector)"
      ],
      "metadata": {
        "id": "6mk9tUxwohIx"
      },
      "execution_count": 7,
      "outputs": []
    },
    {
      "cell_type": "code",
      "source": [
        "def cosine_similarity(vec1, vec2):\n",
        "    dot_product = np.dot(vec1, vec2)\n",
        "    norm_vec1 = np.linalg.norm(vec1)\n",
        "    norm_vec2 = np.linalg.norm(vec2)\n",
        "    return dot_product / (norm_vec1 * norm_vec2) if norm_vec1 * norm_vec2 != 0 else 0"
      ],
      "metadata": {
        "id": "7H_H1vTcojyn"
      },
      "execution_count": 8,
      "outputs": []
    },
    {
      "cell_type": "code",
      "source": [
        "import os\n",
        "import logging\n",
        "\n",
        "def process_queries(queries, tokenized_docs, doc_tfidf_vectors, vocab):\n",
        "    results = []\n",
        "    for query in queries:\n",
        "        tokenized_query = tokenize(query)\n",
        "        query_tfidf_vector = compute_tfidf(tokenized_query, tokenized_docs, vocab)\n",
        "\n",
        "        similarities = []\n",
        "        for doc_id, doc_vector in enumerate(doc_tfidf_vectors):\n",
        "            similarity = cosine_similarity(query_tfidf_vector, doc_vector)\n",
        "            similarities.append((doc_id, similarity))\n",
        "\n",
        "\n",
        "        similarities.sort(key=lambda x: x[1], reverse=True)\n",
        "\n",
        "        results.append((query, similarities))\n",
        "        print(results)\n",
        "    return results"
      ],
      "metadata": {
        "id": "DLrgQBdJoqNX"
      },
      "execution_count": 9,
      "outputs": []
    },
    {
      "cell_type": "code",
      "source": [
        "def write_queries_to_file(results, doc_id_to_filename, output_folder):\n",
        "\n",
        "    if not os.path.exists(output_folder):\n",
        "        os.makedirs(output_folder)\n",
        "\n",
        "    output_file = os.path.join(output_folder, \"Krishma.txt\")\n",
        "    with open(output_file, 'w', encoding='utf-8') as f:\n",
        "        for query, similarities in results:\n",
        "            f.write(f\"Query: {query}\\n\")\n",
        "            for doc_id, similarity in similarities:\n",
        "                filename = doc_id_to_filename[doc_id]\n",
        "                f.write(f\"  Document: {filename}, Similarity: {similarity:.4f}\\n\")\n",
        "            f.write(\"\\n\")\n",
        "\n",
        "    logging.info(f\"Results written to {output_file}\")"
      ],
      "metadata": {
        "id": "0zfMNqcdovD_"
      },
      "execution_count": 10,
      "outputs": []
    },
    {
      "cell_type": "code",
      "source": [
        "def convert_doc_ids_to_filenames(doc_ids, doc_id_to_filename):\n",
        "    return [doc_id_to_filename[doc_id] for doc_id in doc_ids]\n"
      ],
      "metadata": {
        "id": "ItE-B3HIo0mt"
      },
      "execution_count": 11,
      "outputs": []
    },
    {
      "cell_type": "code",
      "source": [
        "def main():\n",
        "    folder_path = \"/content/drive/MyDrive/week3\"\n",
        "\n",
        "    docs, doc_id_to_filename = load_text_files(folder_path)\n",
        "\n",
        "    queries = [\"Smartphones\",\n",
        "\"evolution\", \"over years\", \"software advancements\",\"future mobile technology\",\n",
        "\"Smartwatches\",\n",
        "\"fitness health\",\n",
        " \"monitoring productivity\",\n",
        " \"wearable technology\",\n",
        "\"communication\",\n",
        "\"trends future\",\n",
        "\"Virtual reality\"]\n",
        "\n",
        "\n",
        "    tokenized_docs = [tokenize(doc) for doc in docs.values()]\n",
        "    vocab = sorted(set(word for doc in tokenized_docs for word in doc))\n",
        "    print(logging.info(f\"Vocabulary size: {len(vocab)}\"))\n",
        "\n",
        "    doc_tfidf_vectors = [compute_tfidf(doc, tokenized_docs, vocab) for doc in tokenized_docs]\n",
        "\n",
        "\n",
        "    results = process_queries(queries, tokenized_docs, doc_tfidf_vectors, vocab)\n",
        "\n",
        "\n",
        "    output_folder = \"/content/drive/MyDrive/Query/queries\"\n",
        "\n",
        "\n",
        "    write_queries_to_file(results, doc_id_to_filename, output_folder)\n",
        "\n",
        "if __name__ == \"__main__\":\n",
        "    main()"
      ],
      "metadata": {
        "colab": {
          "base_uri": "https://localhost:8080/"
        },
        "id": "35evARrXo7k_",
        "outputId": "dd0a7870-51ee-4306-9ab2-c0abba069c30"
      },
      "execution_count": 16,
      "outputs": [
        {
          "output_type": "stream",
          "name": "stdout",
          "text": [
            "None\n",
            "[('Smartphones', [(0, 0.4219783102889094), (1, 0.0), (2, 0.0), (3, 0.0), (4, 0.0), (5, 0.0), (6, 0.0), (7, 0.0), (8, 0.0), (9, 0.0)])]\n",
            "[('Smartphones', [(0, 0.4219783102889094), (1, 0.0), (2, 0.0), (3, 0.0), (4, 0.0), (5, 0.0), (6, 0.0), (7, 0.0), (8, 0.0), (9, 0.0)]), ('evolution', [(0, 0.15783473400191225), (2, 0.14354939054380533), (1, 0.0), (3, 0.0), (4, 0.0), (5, 0.0), (6, 0.0), (7, 0.0), (8, 0.0), (9, 0.0)])]\n",
            "[('Smartphones', [(0, 0.4219783102889094), (1, 0.0), (2, 0.0), (3, 0.0), (4, 0.0), (5, 0.0), (6, 0.0), (7, 0.0), (8, 0.0), (9, 0.0)]), ('evolution', [(0, 0.15783473400191225), (2, 0.14354939054380533), (1, 0.0), (3, 0.0), (4, 0.0), (5, 0.0), (6, 0.0), (7, 0.0), (8, 0.0), (9, 0.0)]), ('over years', [(0, 0), (1, 0), (2, 0), (3, 0), (4, 0), (5, 0), (6, 0), (7, 0), (8, 0), (9, 0)])]\n",
            "[('Smartphones', [(0, 0.4219783102889094), (1, 0.0), (2, 0.0), (3, 0.0), (4, 0.0), (5, 0.0), (6, 0.0), (7, 0.0), (8, 0.0), (9, 0.0)]), ('evolution', [(0, 0.15783473400191225), (2, 0.14354939054380533), (1, 0.0), (3, 0.0), (4, 0.0), (5, 0.0), (6, 0.0), (7, 0.0), (8, 0.0), (9, 0.0)]), ('over years', [(0, 0), (1, 0), (2, 0), (3, 0), (4, 0), (5, 0), (6, 0), (7, 0), (8, 0), (9, 0)]), ('software advancements', [(0, 0.15783473400191225), (9, 0.13441017006181394), (1, 0.0), (2, 0.0), (3, 0.0), (4, 0.0), (5, 0.0), (6, 0.0), (7, 0.0), (8, 0.0)])]\n",
            "[('Smartphones', [(0, 0.4219783102889094), (1, 0.0), (2, 0.0), (3, 0.0), (4, 0.0), (5, 0.0), (6, 0.0), (7, 0.0), (8, 0.0), (9, 0.0)]), ('evolution', [(0, 0.15783473400191225), (2, 0.14354939054380533), (1, 0.0), (3, 0.0), (4, 0.0), (5, 0.0), (6, 0.0), (7, 0.0), (8, 0.0), (9, 0.0)]), ('over years', [(0, 0), (1, 0), (2, 0), (3, 0), (4, 0), (5, 0), (6, 0), (7, 0), (8, 0), (9, 0)]), ('software advancements', [(0, 0.15783473400191225), (9, 0.13441017006181394), (1, 0.0), (2, 0.0), (3, 0.0), (4, 0.0), (5, 0.0), (6, 0.0), (7, 0.0), (8, 0.0)]), ('future mobile technology', [(2, 0.15387934537766942), (0, 0.14272054208132953), (3, 0.02351203161152099), (7, 0.02334417280017867), (5, 0.020059905484687286), (1, 0.0), (4, 0.0), (6, 0.0), (8, 0.0), (9, 0.0)])]\n",
            "[('Smartphones', [(0, 0.4219783102889094), (1, 0.0), (2, 0.0), (3, 0.0), (4, 0.0), (5, 0.0), (6, 0.0), (7, 0.0), (8, 0.0), (9, 0.0)]), ('evolution', [(0, 0.15783473400191225), (2, 0.14354939054380533), (1, 0.0), (3, 0.0), (4, 0.0), (5, 0.0), (6, 0.0), (7, 0.0), (8, 0.0), (9, 0.0)]), ('over years', [(0, 0), (1, 0), (2, 0), (3, 0), (4, 0), (5, 0), (6, 0), (7, 0), (8, 0), (9, 0)]), ('software advancements', [(0, 0.15783473400191225), (9, 0.13441017006181394), (1, 0.0), (2, 0.0), (3, 0.0), (4, 0.0), (5, 0.0), (6, 0.0), (7, 0.0), (8, 0.0)]), ('future mobile technology', [(2, 0.15387934537766942), (0, 0.14272054208132953), (3, 0.02351203161152099), (7, 0.02334417280017867), (5, 0.020059905484687286), (1, 0.0), (4, 0.0), (6, 0.0), (8, 0.0), (9, 0.0)]), ('Smartwatches', [(1, 0.2118081930295074), (0, 0.0), (2, 0.0), (3, 0.0), (4, 0.0), (5, 0.0), (6, 0.0), (7, 0.0), (8, 0.0), (9, 0.0)])]\n",
            "[('Smartphones', [(0, 0.4219783102889094), (1, 0.0), (2, 0.0), (3, 0.0), (4, 0.0), (5, 0.0), (6, 0.0), (7, 0.0), (8, 0.0), (9, 0.0)]), ('evolution', [(0, 0.15783473400191225), (2, 0.14354939054380533), (1, 0.0), (3, 0.0), (4, 0.0), (5, 0.0), (6, 0.0), (7, 0.0), (8, 0.0), (9, 0.0)]), ('over years', [(0, 0), (1, 0), (2, 0), (3, 0), (4, 0), (5, 0), (6, 0), (7, 0), (8, 0), (9, 0)]), ('software advancements', [(0, 0.15783473400191225), (9, 0.13441017006181394), (1, 0.0), (2, 0.0), (3, 0.0), (4, 0.0), (5, 0.0), (6, 0.0), (7, 0.0), (8, 0.0)]), ('future mobile technology', [(2, 0.15387934537766942), (0, 0.14272054208132953), (3, 0.02351203161152099), (7, 0.02334417280017867), (5, 0.020059905484687286), (1, 0.0), (4, 0.0), (6, 0.0), (8, 0.0), (9, 0.0)]), ('Smartwatches', [(1, 0.2118081930295074), (0, 0.0), (2, 0.0), (3, 0.0), (4, 0.0), (5, 0.0), (6, 0.0), (7, 0.0), (8, 0.0), (9, 0.0)]), ('fitness health', [(7, 0.39367434341865387), (1, 0.22407850721569336), (0, 0.0), (2, 0.0), (3, 0.0), (4, 0.0), (5, 0.0), (6, 0.0), (8, 0.0), (9, 0.0)])]\n",
            "[('Smartphones', [(0, 0.4219783102889094), (1, 0.0), (2, 0.0), (3, 0.0), (4, 0.0), (5, 0.0), (6, 0.0), (7, 0.0), (8, 0.0), (9, 0.0)]), ('evolution', [(0, 0.15783473400191225), (2, 0.14354939054380533), (1, 0.0), (3, 0.0), (4, 0.0), (5, 0.0), (6, 0.0), (7, 0.0), (8, 0.0), (9, 0.0)]), ('over years', [(0, 0), (1, 0), (2, 0), (3, 0), (4, 0), (5, 0), (6, 0), (7, 0), (8, 0), (9, 0)]), ('software advancements', [(0, 0.15783473400191225), (9, 0.13441017006181394), (1, 0.0), (2, 0.0), (3, 0.0), (4, 0.0), (5, 0.0), (6, 0.0), (7, 0.0), (8, 0.0)]), ('future mobile technology', [(2, 0.15387934537766942), (0, 0.14272054208132953), (3, 0.02351203161152099), (7, 0.02334417280017867), (5, 0.020059905484687286), (1, 0.0), (4, 0.0), (6, 0.0), (8, 0.0), (9, 0.0)]), ('Smartwatches', [(1, 0.2118081930295074), (0, 0.0), (2, 0.0), (3, 0.0), (4, 0.0), (5, 0.0), (6, 0.0), (7, 0.0), (8, 0.0), (9, 0.0)]), ('fitness health', [(7, 0.39367434341865387), (1, 0.22407850721569336), (0, 0.0), (2, 0.0), (3, 0.0), (4, 0.0), (5, 0.0), (6, 0.0), (8, 0.0), (9, 0.0)]), ('monitoring productivity', [(7, 0.18605856571804022), (0, 0.0), (1, 0.0), (2, 0.0), (3, 0.0), (4, 0.0), (5, 0.0), (6, 0.0), (8, 0.0), (9, 0.0)])]\n",
            "[('Smartphones', [(0, 0.4219783102889094), (1, 0.0), (2, 0.0), (3, 0.0), (4, 0.0), (5, 0.0), (6, 0.0), (7, 0.0), (8, 0.0), (9, 0.0)]), ('evolution', [(0, 0.15783473400191225), (2, 0.14354939054380533), (1, 0.0), (3, 0.0), (4, 0.0), (5, 0.0), (6, 0.0), (7, 0.0), (8, 0.0), (9, 0.0)]), ('over years', [(0, 0), (1, 0), (2, 0), (3, 0), (4, 0), (5, 0), (6, 0), (7, 0), (8, 0), (9, 0)]), ('software advancements', [(0, 0.15783473400191225), (9, 0.13441017006181394), (1, 0.0), (2, 0.0), (3, 0.0), (4, 0.0), (5, 0.0), (6, 0.0), (7, 0.0), (8, 0.0)]), ('future mobile technology', [(2, 0.15387934537766942), (0, 0.14272054208132953), (3, 0.02351203161152099), (7, 0.02334417280017867), (5, 0.020059905484687286), (1, 0.0), (4, 0.0), (6, 0.0), (8, 0.0), (9, 0.0)]), ('Smartwatches', [(1, 0.2118081930295074), (0, 0.0), (2, 0.0), (3, 0.0), (4, 0.0), (5, 0.0), (6, 0.0), (7, 0.0), (8, 0.0), (9, 0.0)]), ('fitness health', [(7, 0.39367434341865387), (1, 0.22407850721569336), (0, 0.0), (2, 0.0), (3, 0.0), (4, 0.0), (5, 0.0), (6, 0.0), (8, 0.0), (9, 0.0)]), ('monitoring productivity', [(7, 0.18605856571804022), (0, 0.0), (1, 0.0), (2, 0.0), (3, 0.0), (4, 0.0), (5, 0.0), (6, 0.0), (8, 0.0), (9, 0.0)]), ('wearable technology', [(1, 0.19453386640931558), (2, 0.03268991820470853), (3, 0.03192392390162731), (7, 0.03169601029517894), (5, 0.027236731676270765), (0, 0.0), (4, 0.0), (6, 0.0), (8, 0.0), (9, 0.0)])]\n",
            "[('Smartphones', [(0, 0.4219783102889094), (1, 0.0), (2, 0.0), (3, 0.0), (4, 0.0), (5, 0.0), (6, 0.0), (7, 0.0), (8, 0.0), (9, 0.0)]), ('evolution', [(0, 0.15783473400191225), (2, 0.14354939054380533), (1, 0.0), (3, 0.0), (4, 0.0), (5, 0.0), (6, 0.0), (7, 0.0), (8, 0.0), (9, 0.0)]), ('over years', [(0, 0), (1, 0), (2, 0), (3, 0), (4, 0), (5, 0), (6, 0), (7, 0), (8, 0), (9, 0)]), ('software advancements', [(0, 0.15783473400191225), (9, 0.13441017006181394), (1, 0.0), (2, 0.0), (3, 0.0), (4, 0.0), (5, 0.0), (6, 0.0), (7, 0.0), (8, 0.0)]), ('future mobile technology', [(2, 0.15387934537766942), (0, 0.14272054208132953), (3, 0.02351203161152099), (7, 0.02334417280017867), (5, 0.020059905484687286), (1, 0.0), (4, 0.0), (6, 0.0), (8, 0.0), (9, 0.0)]), ('Smartwatches', [(1, 0.2118081930295074), (0, 0.0), (2, 0.0), (3, 0.0), (4, 0.0), (5, 0.0), (6, 0.0), (7, 0.0), (8, 0.0), (9, 0.0)]), ('fitness health', [(7, 0.39367434341865387), (1, 0.22407850721569336), (0, 0.0), (2, 0.0), (3, 0.0), (4, 0.0), (5, 0.0), (6, 0.0), (8, 0.0), (9, 0.0)]), ('monitoring productivity', [(7, 0.18605856571804022), (0, 0.0), (1, 0.0), (2, 0.0), (3, 0.0), (4, 0.0), (5, 0.0), (6, 0.0), (8, 0.0), (9, 0.0)]), ('wearable technology', [(1, 0.19453386640931558), (2, 0.03268991820470853), (3, 0.03192392390162731), (7, 0.03169601029517894), (5, 0.027236731676270765), (0, 0.0), (4, 0.0), (6, 0.0), (8, 0.0), (9, 0.0)]), ('communication', [(0, 0), (1, 0), (2, 0), (3, 0), (4, 0), (5, 0), (6, 0), (7, 0), (8, 0), (9, 0)])]\n",
            "[('Smartphones', [(0, 0.4219783102889094), (1, 0.0), (2, 0.0), (3, 0.0), (4, 0.0), (5, 0.0), (6, 0.0), (7, 0.0), (8, 0.0), (9, 0.0)]), ('evolution', [(0, 0.15783473400191225), (2, 0.14354939054380533), (1, 0.0), (3, 0.0), (4, 0.0), (5, 0.0), (6, 0.0), (7, 0.0), (8, 0.0), (9, 0.0)]), ('over years', [(0, 0), (1, 0), (2, 0), (3, 0), (4, 0), (5, 0), (6, 0), (7, 0), (8, 0), (9, 0)]), ('software advancements', [(0, 0.15783473400191225), (9, 0.13441017006181394), (1, 0.0), (2, 0.0), (3, 0.0), (4, 0.0), (5, 0.0), (6, 0.0), (7, 0.0), (8, 0.0)]), ('future mobile technology', [(2, 0.15387934537766942), (0, 0.14272054208132953), (3, 0.02351203161152099), (7, 0.02334417280017867), (5, 0.020059905484687286), (1, 0.0), (4, 0.0), (6, 0.0), (8, 0.0), (9, 0.0)]), ('Smartwatches', [(1, 0.2118081930295074), (0, 0.0), (2, 0.0), (3, 0.0), (4, 0.0), (5, 0.0), (6, 0.0), (7, 0.0), (8, 0.0), (9, 0.0)]), ('fitness health', [(7, 0.39367434341865387), (1, 0.22407850721569336), (0, 0.0), (2, 0.0), (3, 0.0), (4, 0.0), (5, 0.0), (6, 0.0), (8, 0.0), (9, 0.0)]), ('monitoring productivity', [(7, 0.18605856571804022), (0, 0.0), (1, 0.0), (2, 0.0), (3, 0.0), (4, 0.0), (5, 0.0), (6, 0.0), (8, 0.0), (9, 0.0)]), ('wearable technology', [(1, 0.19453386640931558), (2, 0.03268991820470853), (3, 0.03192392390162731), (7, 0.03169601029517894), (5, 0.027236731676270765), (0, 0.0), (4, 0.0), (6, 0.0), (8, 0.0), (9, 0.0)]), ('communication', [(0, 0), (1, 0), (2, 0), (3, 0), (4, 0), (5, 0), (6, 0), (7, 0), (8, 0), (9, 0)]), ('trends future', [(2, 0.19189289875808904), (0, 0.0), (1, 0.0), (3, 0.0), (4, 0.0), (5, 0.0), (6, 0.0), (7, 0.0), (8, 0.0), (9, 0.0)])]\n",
            "[('Smartphones', [(0, 0.4219783102889094), (1, 0.0), (2, 0.0), (3, 0.0), (4, 0.0), (5, 0.0), (6, 0.0), (7, 0.0), (8, 0.0), (9, 0.0)]), ('evolution', [(0, 0.15783473400191225), (2, 0.14354939054380533), (1, 0.0), (3, 0.0), (4, 0.0), (5, 0.0), (6, 0.0), (7, 0.0), (8, 0.0), (9, 0.0)]), ('over years', [(0, 0), (1, 0), (2, 0), (3, 0), (4, 0), (5, 0), (6, 0), (7, 0), (8, 0), (9, 0)]), ('software advancements', [(0, 0.15783473400191225), (9, 0.13441017006181394), (1, 0.0), (2, 0.0), (3, 0.0), (4, 0.0), (5, 0.0), (6, 0.0), (7, 0.0), (8, 0.0)]), ('future mobile technology', [(2, 0.15387934537766942), (0, 0.14272054208132953), (3, 0.02351203161152099), (7, 0.02334417280017867), (5, 0.020059905484687286), (1, 0.0), (4, 0.0), (6, 0.0), (8, 0.0), (9, 0.0)]), ('Smartwatches', [(1, 0.2118081930295074), (0, 0.0), (2, 0.0), (3, 0.0), (4, 0.0), (5, 0.0), (6, 0.0), (7, 0.0), (8, 0.0), (9, 0.0)]), ('fitness health', [(7, 0.39367434341865387), (1, 0.22407850721569336), (0, 0.0), (2, 0.0), (3, 0.0), (4, 0.0), (5, 0.0), (6, 0.0), (8, 0.0), (9, 0.0)]), ('monitoring productivity', [(7, 0.18605856571804022), (0, 0.0), (1, 0.0), (2, 0.0), (3, 0.0), (4, 0.0), (5, 0.0), (6, 0.0), (8, 0.0), (9, 0.0)]), ('wearable technology', [(1, 0.19453386640931558), (2, 0.03268991820470853), (3, 0.03192392390162731), (7, 0.03169601029517894), (5, 0.027236731676270765), (0, 0.0), (4, 0.0), (6, 0.0), (8, 0.0), (9, 0.0)]), ('communication', [(0, 0), (1, 0), (2, 0), (3, 0), (4, 0), (5, 0), (6, 0), (7, 0), (8, 0), (9, 0)]), ('trends future', [(2, 0.19189289875808904), (0, 0.0), (1, 0.0), (3, 0.0), (4, 0.0), (5, 0.0), (6, 0.0), (7, 0.0), (8, 0.0), (9, 0.0)]), ('Virtual reality', [(2, 0.4792882728349617), (8, 0.08213651365906587), (0, 0.0), (1, 0.0), (3, 0.0), (4, 0.0), (5, 0.0), (6, 0.0), (7, 0.0), (9, 0.0)])]\n"
          ]
        }
      ]
    }
  ]
}